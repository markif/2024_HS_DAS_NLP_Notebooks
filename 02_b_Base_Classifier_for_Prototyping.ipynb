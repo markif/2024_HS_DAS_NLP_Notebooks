{
 "cells": [
  {
   "cell_type": "markdown",
   "metadata": {},
   "source": [
    "<img align=\"right\" width=\"400\" src=\"https://www.fhnw.ch/de/++theme++web16theme/assets/media/img/fachhochschule-nordwestschweiz-fhnw-logo.svg\" alt=\"FHNW Logo\">\n",
    "\n",
    "\n",
    "# Base Classifier\n",
    "\n",
    "by Fabian Märki\n",
    "\n",
    "## Summary\n",
    "The aim of this notebook is to train a *Base Classifier* using TF-IDF and a standard ML classifier with default hyperparameters. This builds a *base line* upon which more advanced models (i.e. deep learning ones) should show better performance in order to be considered. Additionally, it also investigate the how much individual features (i.e. words) contribute to the class assignment (feature importance) in order to get an idea if the classifier makes *reasonable* decisions.\n",
    "\n",
    "In a second step, this notebook uses hyperparameter tuning to automatically improve the performance of the Base Classifier.\n",
    "\n",
    "This notebook contains assigments: <font color='red'>Questions are written in red.</font>\n",
    "\n",
    "<a href=\"https://colab.research.google.com/github/markif/2024_HS_DAS_NLP_Notebooks/blob/master/02_b_Base_Classifier_for_Prototyping.ipynb\">\n",
    "  <img align=\"left\" src=\"https://colab.research.google.com/assets/colab-badge.svg\" alt=\"Open In Colab\"/>\n",
    "</a>"
   ]
  },
  {
   "cell_type": "code",
   "execution_count": 1,
   "metadata": {},
   "outputs": [],
   "source": [
    "%%capture\n",
    "\n",
    "!pip install 'fhnw-nlp-utils>=0.8.0,<0.9.0'\n",
    "\n",
    "from fhnw.nlp.utils.storage import download\n",
    "from fhnw.nlp.utils.storage import load_dataframe\n",
    "\n",
    "import pandas as pd\n",
    "import numpy as np"
   ]
  },
  {
   "cell_type": "code",
   "execution_count": 2,
   "metadata": {},
   "outputs": [
    {
     "name": "stdout",
     "output_type": "stream",
     "text": [
      "OS name: posix\n",
      "Platform name: Linux\n",
      "Platform release: 5.15.0-46-generic\n",
      "Python version: 3.6.9\n",
      "CPU cores: 6\n",
      "RAM: 31.12GB total and 18.47GB available\n",
      "Tensorflow version: 2.5.1\n",
      "GPU is available\n",
      "GPU is a NVIDIA GeForce RTX 2070 with Max-Q Design with 8192MiB\n"
     ]
    }
   ],
   "source": [
    "from fhnw.nlp.utils.system import set_log_level\n",
    "from fhnw.nlp.utils.system import system_info\n",
    "\n",
    "set_log_level()\n",
    "print(system_info())"
   ]
  },
  {
   "cell_type": "code",
   "execution_count": 3,
   "metadata": {},
   "outputs": [
    {
     "name": "stdout",
     "output_type": "stream",
     "text": [
      "CPU times: user 874 ms, sys: 134 ms, total: 1.01 s\n",
      "Wall time: 1.02 s\n"
     ]
    },
    {
     "data": {
      "text/plain": [
       "(357899, 2)"
      ]
     },
     "execution_count": 3,
     "metadata": {},
     "output_type": "execute_result"
    }
   ],
   "source": [
    "%%time\n",
    "download(\"https://drive.switch.ch/index.php/s/PrVg8Ugfc2jDwT3/download\", \"data/german_doctor_reviews_original.parq\")\n",
    "data = load_dataframe(\"data/german_doctor_reviews_original.parq\")\n",
    "data.shape"
   ]
  },
  {
   "cell_type": "code",
   "execution_count": 4,
   "metadata": {},
   "outputs": [
    {
     "data": {
      "text/html": [
       "<div>\n",
       "<style scoped>\n",
       "    .dataframe tbody tr th:only-of-type {\n",
       "        vertical-align: middle;\n",
       "    }\n",
       "\n",
       "    .dataframe tbody tr th {\n",
       "        vertical-align: top;\n",
       "    }\n",
       "\n",
       "    .dataframe thead th {\n",
       "        text-align: right;\n",
       "    }\n",
       "</style>\n",
       "<table border=\"1\" class=\"dataframe\">\n",
       "  <thead>\n",
       "    <tr style=\"text-align: right;\">\n",
       "      <th></th>\n",
       "      <th>text_original</th>\n",
       "      <th>rating</th>\n",
       "    </tr>\n",
       "  </thead>\n",
       "  <tbody>\n",
       "    <tr>\n",
       "      <th>0</th>\n",
       "      <td>Ich bin franzose und bin seit ein paar Wochen ...</td>\n",
       "      <td>2.0</td>\n",
       "    </tr>\n",
       "    <tr>\n",
       "      <th>1</th>\n",
       "      <td>Dieser Arzt ist das unmöglichste was mir in me...</td>\n",
       "      <td>6.0</td>\n",
       "    </tr>\n",
       "    <tr>\n",
       "      <th>2</th>\n",
       "      <td>Hatte akute Beschwerden am Rücken. Herr Magura...</td>\n",
       "      <td>1.0</td>\n",
       "    </tr>\n",
       "  </tbody>\n",
       "</table>\n",
       "</div>"
      ],
      "text/plain": [
       "                                       text_original  rating\n",
       "0  Ich bin franzose und bin seit ein paar Wochen ...     2.0\n",
       "1  Dieser Arzt ist das unmöglichste was mir in me...     6.0\n",
       "2  Hatte akute Beschwerden am Rücken. Herr Magura...     1.0"
      ]
     },
     "execution_count": 4,
     "metadata": {},
     "output_type": "execute_result"
    }
   ],
   "source": [
    "data.head(3)"
   ]
  },
  {
   "cell_type": "markdown",
   "metadata": {},
   "source": [
    "The classification should recognize if a comment has a positive or negative sentiment. We already converted good ratings (1-2) into a *positive*, low ratings (5-6) into a *negative* and mid range ratings (3-4) into a *neutral* label. Here we additionally exclude *neutral* ratings so that the task becomes a binary classification."
   ]
  },
  {
   "cell_type": "code",
   "execution_count": 5,
   "metadata": {},
   "outputs": [
    {
     "data": {
      "text/plain": [
       "(331338, 4)"
      ]
     },
     "execution_count": 5,
     "metadata": {},
     "output_type": "execute_result"
    }
   ],
   "source": [
    "data[\"label\"] = \"positive\"\n",
    "data.loc[data[\"rating\"] >= 3, \"label\"] = \"neutral\"\n",
    "data.loc[data[\"rating\"] >= 5, \"label\"] = \"negative\"\n",
    "\n",
    "data[\"sentiment\"] = data[\"label\"].apply(lambda x: 1 if x == \"positive\" else (-1 if x == \"negative\" else 0))\n",
    "data = data.astype({\"sentiment\": \"int32\"})\n",
    "\n",
    "# remove all neutral sentimens\n",
    "data = data.loc[(data[\"label\"] != \"neutral\")]\n",
    "# remove all nan\n",
    "data = data.dropna()\n",
    "\n",
    "data.shape"
   ]
  },
  {
   "cell_type": "code",
   "execution_count": 6,
   "metadata": {},
   "outputs": [
    {
     "data": {
      "text/html": [
       "<div>\n",
       "<style scoped>\n",
       "    .dataframe tbody tr th:only-of-type {\n",
       "        vertical-align: middle;\n",
       "    }\n",
       "\n",
       "    .dataframe tbody tr th {\n",
       "        vertical-align: top;\n",
       "    }\n",
       "\n",
       "    .dataframe thead th {\n",
       "        text-align: right;\n",
       "    }\n",
       "</style>\n",
       "<table border=\"1\" class=\"dataframe\">\n",
       "  <thead>\n",
       "    <tr style=\"text-align: right;\">\n",
       "      <th></th>\n",
       "      <th>text_original</th>\n",
       "      <th>rating</th>\n",
       "      <th>label</th>\n",
       "      <th>sentiment</th>\n",
       "    </tr>\n",
       "  </thead>\n",
       "  <tbody>\n",
       "    <tr>\n",
       "      <th>0</th>\n",
       "      <td>Ich bin franzose und bin seit ein paar Wochen ...</td>\n",
       "      <td>2.0</td>\n",
       "      <td>positive</td>\n",
       "      <td>1</td>\n",
       "    </tr>\n",
       "    <tr>\n",
       "      <th>1</th>\n",
       "      <td>Dieser Arzt ist das unmöglichste was mir in me...</td>\n",
       "      <td>6.0</td>\n",
       "      <td>negative</td>\n",
       "      <td>-1</td>\n",
       "    </tr>\n",
       "    <tr>\n",
       "      <th>2</th>\n",
       "      <td>Hatte akute Beschwerden am Rücken. Herr Magura...</td>\n",
       "      <td>1.0</td>\n",
       "      <td>positive</td>\n",
       "      <td>1</td>\n",
       "    </tr>\n",
       "  </tbody>\n",
       "</table>\n",
       "</div>"
      ],
      "text/plain": [
       "                                       text_original  rating     label  \\\n",
       "0  Ich bin franzose und bin seit ein paar Wochen ...     2.0  positive   \n",
       "1  Dieser Arzt ist das unmöglichste was mir in me...     6.0  negative   \n",
       "2  Hatte akute Beschwerden am Rücken. Herr Magura...     1.0  positive   \n",
       "\n",
       "   sentiment  \n",
       "0          1  \n",
       "1         -1  \n",
       "2          1  "
      ]
     },
     "execution_count": 6,
     "metadata": {},
     "output_type": "execute_result"
    }
   ],
   "source": [
    "data.head(3)"
   ]
  },
  {
   "cell_type": "markdown",
   "metadata": {},
   "source": [
    "Let's preprocess the text first (text cleaning, tokenization, compound word splitting, stemming, stop word removal). See also [cleaning](https://github.com/markif/2023_FS_CAS_NLP_LAB_Notebooks/blob/master/02_a_Text_Cleaning.ipynb) and [preprocessing](https://github.com/markif/2023_FS_CAS_NLP_LAB_Notebooks/blob/master/02_b_Text_Normalization.ipynb) the doctor reviews dataset for more details."
   ]
  },
  {
   "cell_type": "code",
   "execution_count": 7,
   "metadata": {},
   "outputs": [
    {
     "name": "stderr",
     "output_type": "stream",
     "text": [
      "[nltk_data] Downloading package punkt to /root/nltk_data...\n",
      "[nltk_data]   Package punkt is already up-to-date!\n",
      "[nltk_data] Downloading package stopwords to /root/nltk_data...\n",
      "[nltk_data]   Package stopwords is already up-to-date!\n"
     ]
    }
   ],
   "source": [
    "from nltk.corpus import stopwords\n",
    "\n",
    "import nltk\n",
    "nltk.download('punkt')\n",
    "nltk.download('stopwords')\n",
    "\n",
    "stopwords = set(stopwords.words(\"german\"))\n",
    "\n",
    "# analyze and revise stopwords\n",
    "# add semantically empty words (in the given context)\n",
    "stopwords.add(\"frau\")\n",
    "stopwords.add(\"dr\")\n",
    "stopwords.add(\"herr\")\n",
    "stopwords.add(\"herrn\")\n",
    "stopwords.add(\"fr\")\n",
    "stopwords.add(\"werden\")\n",
    "\n",
    "# remove semantically meaningful words (like e.g. nicht)\n",
    "stopwords.remove(\"nicht\")\n",
    "stopwords.remove(\"kein\")"
   ]
  },
  {
   "cell_type": "code",
   "execution_count": 8,
   "metadata": {},
   "outputs": [
    {
     "data": {
      "text/plain": [
       "['schlecht', 'arzt']"
      ]
     },
     "execution_count": 8,
     "metadata": {},
     "output_type": "execute_result"
    }
   ],
   "source": [
    "from fhnw.nlp.utils.preprocess import preprocess\n",
    "\n",
    "preprocess(\"Dies ist ein schlechter Arzt.\", stopwords=stopwords, do_compound_word_split=True)"
   ]
  },
  {
   "cell_type": "code",
   "execution_count": 9,
   "metadata": {},
   "outputs": [
    {
     "data": {
      "text/html": [
       "<div>\n",
       "<style scoped>\n",
       "    .dataframe tbody tr th:only-of-type {\n",
       "        vertical-align: middle;\n",
       "    }\n",
       "\n",
       "    .dataframe tbody tr th {\n",
       "        vertical-align: top;\n",
       "    }\n",
       "\n",
       "    .dataframe thead th {\n",
       "        text-align: right;\n",
       "    }\n",
       "</style>\n",
       "<table border=\"1\" class=\"dataframe\">\n",
       "  <thead>\n",
       "    <tr style=\"text-align: right;\">\n",
       "      <th></th>\n",
       "      <th>text_original</th>\n",
       "      <th>rating</th>\n",
       "      <th>label</th>\n",
       "      <th>sentiment</th>\n",
       "    </tr>\n",
       "  </thead>\n",
       "  <tbody>\n",
       "    <tr>\n",
       "      <th>0</th>\n",
       "      <td>Ich bin franzose und bin seit ein paar Wochen ...</td>\n",
       "      <td>2.0</td>\n",
       "      <td>positive</td>\n",
       "      <td>1</td>\n",
       "    </tr>\n",
       "    <tr>\n",
       "      <th>1</th>\n",
       "      <td>Dieser Arzt ist das unmöglichste was mir in me...</td>\n",
       "      <td>6.0</td>\n",
       "      <td>negative</td>\n",
       "      <td>-1</td>\n",
       "    </tr>\n",
       "    <tr>\n",
       "      <th>2</th>\n",
       "      <td>Hatte akute Beschwerden am Rücken. Herr Magura...</td>\n",
       "      <td>1.0</td>\n",
       "      <td>positive</td>\n",
       "      <td>1</td>\n",
       "    </tr>\n",
       "  </tbody>\n",
       "</table>\n",
       "</div>"
      ],
      "text/plain": [
       "                                       text_original  rating     label  \\\n",
       "0  Ich bin franzose und bin seit ein paar Wochen ...     2.0  positive   \n",
       "1  Dieser Arzt ist das unmöglichste was mir in me...     6.0  negative   \n",
       "2  Hatte akute Beschwerden am Rücken. Herr Magura...     1.0  positive   \n",
       "\n",
       "   sentiment  \n",
       "0          1  \n",
       "1         -1  \n",
       "2          1  "
      ]
     },
     "execution_count": 9,
     "metadata": {},
     "output_type": "execute_result"
    }
   ],
   "source": [
    "data.head(3)"
   ]
  },
  {
   "cell_type": "code",
   "execution_count": null,
   "metadata": {},
   "outputs": [],
   "source": []
  },
  {
   "cell_type": "markdown",
   "metadata": {},
   "source": [
    "Check if dataset is unbalanced. "
   ]
  },
  {
   "cell_type": "code",
   "execution_count": 10,
   "metadata": {},
   "outputs": [
    {
     "data": {
      "text/plain": [
       "negative     33028\n",
       "positive    298310\n",
       "Name: label, dtype: int64"
      ]
     },
     "execution_count": 10,
     "metadata": {},
     "output_type": "execute_result"
    }
   ],
   "source": [
    "val_counts = data[\"label\"].value_counts().sort_index()\n",
    "val_counts"
   ]
  },
  {
   "cell_type": "code",
   "execution_count": 11,
   "metadata": {},
   "outputs": [
    {
     "name": "stdout",
     "output_type": "stream",
     "text": [
      "negative    0.099681\n",
      "positive    0.900319\n",
      "Name: label, dtype: float64\n"
     ]
    },
    {
     "data": {
      "text/plain": [
       "<AxesSubplot:>"
      ]
     },
     "execution_count": 11,
     "metadata": {},
     "output_type": "execute_result"
    },
    {
     "data": {
      "image/png": "[encoded data removed]",
      "text/plain": [
       "<Figure size 432x288 with 1 Axes>"
      ]
     },
     "metadata": {
      "needs_background": "light"
     },
     "output_type": "display_data"
    }
   ],
   "source": [
    "val_counts = val_counts / np.sum(val_counts)\n",
    "print(val_counts)\n",
    "val_counts.plot(kind='barh')"
   ]
  },
  {
   "cell_type": "markdown",
   "metadata": {},
   "source": [
    "It seems the classes are quite unbalanced. \n",
    "\n",
    "Models often have difficluties to predict the minor class (in our case, a model that simply predicts the major class already has an accurracy of 90 percent). Methods to deal with unbalanced classes are over- and under-sampling, weighing of classes, data augmentation [etc](https://machinelearningmastery.com/tactics-to-combat-imbalanced-classes-in-your-machine-learning-dataset/). It turnes out that the classifier works quite good since the minority class already has quite some of observations (even though there are still some improvements possible as we will see later)."
   ]
  },
  {
   "cell_type": "code",
   "execution_count": null,
   "metadata": {},
   "outputs": [],
   "source": []
  },
  {
   "cell_type": "markdown",
   "metadata": {},
   "source": [
    "### Base Classifier"
   ]
  },
  {
   "cell_type": "markdown",
   "metadata": {},
   "source": [
    "Prepare the data (train/test split)."
   ]
  },
  {
   "cell_type": "markdown",
   "metadata": {},
   "source": [
    "<font color='red'>**TASK: Have a look at *[Visualizing cross-validation behavior](https://scikit-learn.org/stable/auto_examples/model_selection/plot_cv_indices.html#sphx-glr-auto-examples-model-selection-plot-cv-indices-py)* and think about a good way to split the data into training and test sets (the link also deals with [cross-validation](https://scikit-learn.org/stable/modules/cross_validation.html) - here only the part about [train/test split](https://scikit-learn.org/stable/modules/generated/sklearn.model_selection.train_test_split.html) is of importance).**</font>"
   ]
  },
  {
   "cell_type": "code",
   "execution_count": 12,
   "metadata": {},
   "outputs": [],
   "source": [
    "from sklearn.model_selection import train_test_split\n",
    "\n",
    "# TODO: !!! place your code here !!!\n",
    "####################################\n",
    "# !!! this needs rework !!!\n",
    "data_train = data[:165594]\n",
    "data_test = data[165594:]\n",
    "\n",
    "# ensure we retain the class weights by using stratify\n",
    "# define random_state to have the same splits among different runs\n",
    "\n",
    "###################\n",
    "# TODO: !!! end !!!"
   ]
  },
  {
   "cell_type": "code",
   "execution_count": 13,
   "metadata": {},
   "outputs": [],
   "source": [
    "X_train, y_train = data_train[\"text_original\"], data_train[\"label\"]\n",
    "X_test, y_test = data_test[\"text_original\"], data_test[\"label\"]"
   ]
  },
  {
   "cell_type": "code",
   "execution_count": null,
   "metadata": {},
   "outputs": [],
   "source": []
  },
  {
   "cell_type": "markdown",
   "metadata": {},
   "source": [
    "All default values without hyperparameter optimization."
   ]
  },
  {
   "cell_type": "markdown",
   "metadata": {},
   "source": [
    "<font color='red'>**TASK: Build a Classifier using scikit-learn's [Pipeline](https://scikit-learn.org/stable/modules/generated/sklearn.pipeline.Pipeline.html) with [TfidfVectorizer](https://scikit-learn.org/stable/modules/generated/sklearn.feature_extraction.text.TfidfVectorizer.html) and [SGDClassifier](https://scikit-learn.org/stable/modules/generated/sklearn.linear_model.SGDClassifier.html).**</font>\n",
    "\n",
    "<font color='red'>**Optional: In a later iteration you might want to try different [Classifiers](https://scikit-learn.org/stable/auto_examples/classification/plot_classifier_comparison.html#sphx-glr-auto-examples-classification-plot-classifier-comparison-py) ([Choosing the Right Estimator](https://scikit-learn.org/stable/tutorial/machine_learning_map/index.html) could also be of interest).**</font>"
   ]
  },
  {
   "cell_type": "code",
   "execution_count": 14,
   "metadata": {},
   "outputs": [
    {
     "name": "stdout",
     "output_type": "stream",
     "text": [
      "CPU times: user 3min 56s, sys: 373 ms, total: 3min 57s\n",
      "Wall time: 3min 57s\n"
     ]
    },
    {
     "data": {
      "text/plain": [
       "Pipeline(steps=[('vec',\n",
       "                 TfidfVectorizer(analyzer=<function analyze at 0x7f16ea2d87b8>)),\n",
       "                ('clf', SGDClassifier(n_jobs=6))])"
      ]
     },
     "execution_count": 14,
     "metadata": {},
     "output_type": "execute_result"
    }
   ],
   "source": [
    "%%time\n",
    "\n",
    "from sklearn.feature_extraction.text import TfidfVectorizer\n",
    "from sklearn.linear_model import SGDClassifier\n",
    "from sklearn.pipeline import Pipeline\n",
    "from fhnw.nlp.utils.preprocess import preprocess\n",
    "\n",
    "def analyze(text):\n",
    "    return preprocess(text, stopwords=stopwords, do_compound_word_split=True)\n",
    "\n",
    "\n",
    "# TODO: !!! place your code here !!!\n",
    "####################################\n",
    "pipe = Pipeline([\n",
    "         ...\n",
    "        ])\n",
    "\n",
    "###################\n",
    "# TODO: !!! end !!!\n",
    "\n",
    "pipe.fit(X_train, y_train)"
   ]
  },
  {
   "cell_type": "code",
   "execution_count": 15,
   "metadata": {},
   "outputs": [
    {
     "name": "stdout",
     "output_type": "stream",
     "text": [
      "CPU times: user 5min 8s, sys: 224 ms, total: 5min 8s\n",
      "Wall time: 5min 8s\n"
     ]
    }
   ],
   "source": [
    "%%time\n",
    "\n",
    "y_train_pred = pipe.predict(X_train)\n",
    "y_test_pred = pipe.predict(X_test)"
   ]
  },
  {
   "cell_type": "markdown",
   "metadata": {},
   "source": [
    "See [here](https://www.youtube.com/watch?v=qWfzIYCvBqo) for a nice explanation of precision and recall.\n",
    "\n",
    "See [here](https://towardsdatascience.com/micro-macro-weighted-averages-of-f1-score-clearly-explained-b603420b292f) on how to interpret a classification report (and on which measure to choose to compare the performance of different models). "
   ]
  },
  {
   "cell_type": "code",
   "execution_count": 16,
   "metadata": {},
   "outputs": [
    {
     "name": "stdout",
     "output_type": "stream",
     "text": [
      "Train:\n",
      "              precision    recall  f1-score   support\n",
      "\n",
      "    negative       0.91      0.71      0.80     24771\n",
      "    positive       0.97      0.99      0.98    223732\n",
      "\n",
      "    accuracy                           0.96    248503\n",
      "   macro avg       0.94      0.85      0.89    248503\n",
      "weighted avg       0.96      0.96      0.96    248503\n",
      "\n",
      "Test:\n",
      "              precision    recall  f1-score   support\n",
      "\n",
      "    negative       0.90      0.69      0.78      8257\n",
      "    positive       0.97      0.99      0.98     74578\n",
      "\n",
      "    accuracy                           0.96     82835\n",
      "   macro avg       0.94      0.84      0.88     82835\n",
      "weighted avg       0.96      0.96      0.96     82835\n",
      "\n"
     ]
    }
   ],
   "source": [
    "from sklearn.metrics import classification_report\n",
    "\n",
    "report = classification_report(y_train, y_train_pred)\n",
    "print(\"Train:\")\n",
    "print(report)\n",
    "report = classification_report(y_test, y_test_pred)\n",
    "print(\"Test:\")\n",
    "print(report)"
   ]
  },
  {
   "cell_type": "markdown",
   "metadata": {},
   "source": [
    "See [here](https://www.youtube.com/watch?v=_cpiuMuFj3U) for a nice explanation on how to interprete a confusion matrix."
   ]
  },
  {
   "cell_type": "code",
   "execution_count": 17,
   "metadata": {},
   "outputs": [
    {
     "name": "stdout",
     "output_type": "stream",
     "text": [
      "Set Population: 248503\n",
      "Accuracy: 0.9639\n"
     ]
    },
    {
     "data": {
      "image/png": "[encoded data removed]",
      "text/plain": [
       "<Figure size 720x576 with 2 Axes>"
      ]
     },
     "metadata": {
      "needs_background": "light"
     },
     "output_type": "display_data"
    },
    {
     "name": "stdout",
     "output_type": "stream",
     "text": [
      "Set Population: 82835\n",
      "Accuracy: 0.9620\n"
     ]
    },
    {
     "data": {
      "image/png": "[encoded data removed]",
      "text/plain": [
       "<Figure size 720x576 with 2 Axes>"
      ]
     },
     "metadata": {
      "needs_background": "light"
     },
     "output_type": "display_data"
    }
   ],
   "source": [
    "from fhnw.nlp.utils.ploting import plot_confusion_matrix\n",
    "\n",
    "plot_confusion_matrix(y_train, y_train_pred)\n",
    "plot_confusion_matrix(y_test, y_test_pred)"
   ]
  },
  {
   "cell_type": "markdown",
   "metadata": {},
   "source": [
    "Check feature importance in order to get an idea if the class assignment builds on reasonable words. \n",
    "\n",
    "We can do this because SGDClassifier uses a LinearSVC by default. Recall that a linear SVM creates a hyperplane that uses support vectors to maximise the distance between the two classes. The weights obtained from svm.coef_ represent the vector coordinates which are orthogonal to the hyperplane and their direction indicates the predicted class. The absolute size of the coefficients in relation to each other can then be used to determine feature importance.\n",
    "\n",
    "See also https://aneesha.medium.com/visualising-top-features-in-linear-svm-with-scikit-learn-and-matplotlib-3454ab18a14d"
   ]
  },
  {
   "cell_type": "code",
   "execution_count": 18,
   "metadata": {},
   "outputs": [
    {
     "data": {
      "image/png": "[encoded data removed]",
      "text/plain": [
       "<Figure size 1080x360 with 1 Axes>"
      ]
     },
     "metadata": {
      "needs_background": "light"
     },
     "output_type": "display_data"
    }
   ],
   "source": [
    "from fhnw.nlp.utils.ploting import plot_feature_importance\n",
    "\n",
    "vectorizer = pipe.named_steps[\"vec\"]\n",
    "# only works since SGDClassifier uses LinearSVC by default\n",
    "classifier = pipe.named_steps[\"clf\"]\n",
    "\n",
    "plot_feature_importance(classifier, vectorizer.get_feature_names_out())"
   ]
  },
  {
   "cell_type": "markdown",
   "metadata": {},
   "source": [
    "Get an impression on texts with wrong prediction."
   ]
  },
  {
   "cell_type": "code",
   "execution_count": 19,
   "metadata": {},
   "outputs": [
    {
     "name": "stderr",
     "output_type": "stream",
     "text": [
      "/usr/local/lib/python3.6/dist-packages/ipykernel_launcher.py:3: SettingWithCopyWarning: \n",
      "A value is trying to be set on a copy of a slice from a DataFrame.\n",
      "Try using .loc[row_indexer,col_indexer] = value instead\n",
      "\n",
      "See the caveats in the documentation: https://pandas.pydata.org/pandas-docs/stable/user_guide/indexing.html#returning-a-view-versus-a-copy\n",
      "  This is separate from the ipykernel package so we can avoid doing imports until\n"
     ]
    },
    {
     "data": {
      "text/html": [
       "<div>\n",
       "<style scoped>\n",
       "    .dataframe tbody tr th:only-of-type {\n",
       "        vertical-align: middle;\n",
       "    }\n",
       "\n",
       "    .dataframe tbody tr th {\n",
       "        vertical-align: top;\n",
       "    }\n",
       "\n",
       "    .dataframe thead th {\n",
       "        text-align: right;\n",
       "    }\n",
       "</style>\n",
       "<table border=\"1\" class=\"dataframe\">\n",
       "  <thead>\n",
       "    <tr style=\"text-align: right;\">\n",
       "      <th></th>\n",
       "      <th>text_original</th>\n",
       "      <th>label</th>\n",
       "      <th>prediction</th>\n",
       "    </tr>\n",
       "  </thead>\n",
       "  <tbody>\n",
       "    <tr>\n",
       "      <th>95574</th>\n",
       "      <td>Ich bin nur noch aus einem Grund in diese Praxis gegangen. Dr. Dudek war eigentlich immer sehr hilfreich, wenn er mal da war. Ich hatte auch oft seine Vertretung die einen mal schnell mit ein paar Tropfen wieder weg geschickt hat. Die Sprechstundenhilfen sind wirklich alle unfreundlich und schroff. Es kommt nie ein freundliches Guten Morgen. Da hat man einen Termin online gemacht aber die Damen hatten ihr System noch nicht upgedatet, bekommt man sofort eine richtig freche Antwort. Wenn man etwas will, hat man da vorne sofort verloren. Die scheinen mir da vorne nicht sehr arbeitswillig zu sein. Nach meinen letzten Erlebnis, wo ich telefonisch sehr angegangen wurde, war das nun mein letztes Mal in dieser Praxis! Beruf verfehlt, Patienten egal. Man muss erstmal an den Wachhunden versuchen vorbei zu kommen bis man mal behandelt wird.</td>\n",
       "      <td>positive</td>\n",
       "      <td>negative</td>\n",
       "    </tr>\n",
       "    <tr>\n",
       "      <th>220265</th>\n",
       "      <td>Herr Dr. Kremer ordnet Untersuchungen an, ohne den Patienten darüber zu informieren. Ich sollte einen Termin für eine bestimmte Untersuchung durch seine Helferin bekommen, den ich ablehnte, da ich der Meinung war, dass diese Untersuchung absolut nichts mit meinen Beschwerden zu tun hatte.&lt;br /&gt;\\r\\nPrivatpatienten werden immer wieder bestellt.&lt;br /&gt;\\r\\nDie Rechnungen sind sehr hoch. Ich weiß es aus Fällen in meiner Bekanntschaft,; auch meine Hausärztin hat mich darüber informiert.</td>\n",
       "      <td>negative</td>\n",
       "      <td>positive</td>\n",
       "    </tr>\n",
       "    <tr>\n",
       "      <th>23538</th>\n",
       "      <td>Zunächst das Positive: Kurze Wartezeit beim Termin. Ende&lt;br /&gt;\\nDas Negative: &lt;br /&gt;\\nWenig Interesse am Patienten und dessen Beschwerden, \"Ihnen geht es doch gut\"!&lt;br /&gt;\\nSprechstundenhilfe äußerst sich herablassend über andere Patienten.&lt;br /&gt;\\nEs gibt keine Hinterfragung der Ergebnisse von Vorbehandlungen.&lt;br /&gt;\\nEs werden Symptohme festgestellt, diese aber nicht erklärt oder in einen Zusammenhang gestellt.&lt;br /&gt;\\nMan fühlt sich nicht als Paitent wahr genommen, \"Irgendjemand wird das schon bezahlen, ich weiß nicht wer aber jemand sicherlich.\"</td>\n",
       "      <td>negative</td>\n",
       "      <td>positive</td>\n",
       "    </tr>\n",
       "    <tr>\n",
       "      <th>264798</th>\n",
       "      <td>Meine Tochter musste heute wegen eines Auslandsaufenthaltes geimpft werden. Dabei wurde ihre ohne vorherige Frage eine HPV-Impfung verpasst. Das hat ein Nachspiel!</td>\n",
       "      <td>negative</td>\n",
       "      <td>positive</td>\n",
       "    </tr>\n",
       "    <tr>\n",
       "      <th>316668</th>\n",
       "      <td>Total überlastetes, und anscheinend unterbezahltes Arzthelferinnen-Personal !</td>\n",
       "      <td>negative</td>\n",
       "      <td>positive</td>\n",
       "    </tr>\n",
       "    <tr>\n",
       "      <th>...</th>\n",
       "      <td>...</td>\n",
       "      <td>...</td>\n",
       "      <td>...</td>\n",
       "    </tr>\n",
       "    <tr>\n",
       "      <th>242309</th>\n",
       "      <td>Bitte bei der Medikamenten Verschreibung doch gleich ein Hinweis auf Einnahmezeiten schriftlich mitgeben ich war leider überfordert bei 3 MedikamentenEinnahmen jedenfalls Stunden später wusste ich nicht mehr genau wie und wann ich die Medikamente nehmen sollte</td>\n",
       "      <td>positive</td>\n",
       "      <td>negative</td>\n",
       "    </tr>\n",
       "    <tr>\n",
       "      <th>23872</th>\n",
       "      <td>Ärztin will eine schnell weghaben aufgrund der vollen Praxis. Alles kurz und knapp und das allermindeste .</td>\n",
       "      <td>negative</td>\n",
       "      <td>positive</td>\n",
       "    </tr>\n",
       "    <tr>\n",
       "      <th>53785</th>\n",
       "      <td>wie so viele Orthopäden wird auch Dr. nasseri dem schlechten ruf seiner Kollegen vollstens gerecht.&lt;br /&gt;\\nIch kann diese Praxis absolut nicht empfehlen.&lt;br /&gt;\\nNettigkeit ist kein Qualitätsmerkmal , sonder wie ernst werde ich genommen, hört man mir zu und welche therapieempfehlungen bekomme ich.</td>\n",
       "      <td>negative</td>\n",
       "      <td>positive</td>\n",
       "    </tr>\n",
       "    <tr>\n",
       "      <th>341541</th>\n",
       "      <td>Die Bewertung eines Arztes erfolgt nicht danach, wie breit er lächelt, sondern, wie er einem hilft!&lt;br /&gt;\\nDr. Weihe verweigerte eine Behandlung mir Aclasta-Infusion, die meine Osteoporosewerte bei der Behandlung beim Kölner Arzt ü. 4 Jahre, deutlich verbessert hatte.&lt;br /&gt;\\nAls normaler Sterblicher erhielt ich zuerst die billigste Variante, Tabletten, die meinen Magen in einer Woche kaputt gemacht hatten, später andere preisgünstige Alternative. Er sparte an mir. &lt;br /&gt;\\nEin Wechsel des Arztes brachte Erfolg!</td>\n",
       "      <td>negative</td>\n",
       "      <td>positive</td>\n",
       "    </tr>\n",
       "    <tr>\n",
       "      <th>35891</th>\n",
       "      <td>Leider spricht der Zahnarzt mehr über Geld als über die Behandlung selber. Als es bei der letzten Honorarvereinbarung um gut das Doppelte des normalen Honorars ging, habe ich die Behandlung beendet und mir einen Zahnarzt gesucht, der mit dem normalen Honorar zufrieden ist.</td>\n",
       "      <td>negative</td>\n",
       "      <td>positive</td>\n",
       "    </tr>\n",
       "  </tbody>\n",
       "</table>\n",
       "<p>8981 rows × 3 columns</p>\n",
       "</div>"
      ],
      "text/plain": [
       "                                                                                                                                                                                                                                                                                                                                                                                                                                                                                                                                                                                                                                                                                                                                                                                                                                                                    text_original  \\\n",
       "95574   Ich bin nur noch aus einem Grund in diese Praxis gegangen. Dr. Dudek war eigentlich immer sehr hilfreich, wenn er mal da war. Ich hatte auch oft seine Vertretung die einen mal schnell mit ein paar Tropfen wieder weg geschickt hat. Die Sprechstundenhilfen sind wirklich alle unfreundlich und schroff. Es kommt nie ein freundliches Guten Morgen. Da hat man einen Termin online gemacht aber die Damen hatten ihr System noch nicht upgedatet, bekommt man sofort eine richtig freche Antwort. Wenn man etwas will, hat man da vorne sofort verloren. Die scheinen mir da vorne nicht sehr arbeitswillig zu sein. Nach meinen letzten Erlebnis, wo ich telefonisch sehr angegangen wurde, war das nun mein letztes Mal in dieser Praxis! Beruf verfehlt, Patienten egal. Man muss erstmal an den Wachhunden versuchen vorbei zu kommen bis man mal behandelt wird.   \n",
       "220265                                                                                                                                                                                                                                                                                                                                                                       Herr Dr. Kremer ordnet Untersuchungen an, ohne den Patienten darüber zu informieren. Ich sollte einen Termin für eine bestimmte Untersuchung durch seine Helferin bekommen, den ich ablehnte, da ich der Meinung war, dass diese Untersuchung absolut nichts mit meinen Beschwerden zu tun hatte.<br />\\r\\nPrivatpatienten werden immer wieder bestellt.<br />\\r\\nDie Rechnungen sind sehr hoch. Ich weiß es aus Fällen in meiner Bekanntschaft,; auch meine Hausärztin hat mich darüber informiert.   \n",
       "23538                                                                                                                                                                                                                                                                                                     Zunächst das Positive: Kurze Wartezeit beim Termin. Ende<br />\\nDas Negative: <br />\\nWenig Interesse am Patienten und dessen Beschwerden, \"Ihnen geht es doch gut\"!<br />\\nSprechstundenhilfe äußerst sich herablassend über andere Patienten.<br />\\nEs gibt keine Hinterfragung der Ergebnisse von Vorbehandlungen.<br />\\nEs werden Symptohme festgestellt, diese aber nicht erklärt oder in einen Zusammenhang gestellt.<br />\\nMan fühlt sich nicht als Paitent wahr genommen, \"Irgendjemand wird das schon bezahlen, ich weiß nicht wer aber jemand sicherlich.\"   \n",
       "264798                                                                                                                                                                                                                                                                                                                                                                                                                                                                                                                                                                                                                                                                                                        Meine Tochter musste heute wegen eines Auslandsaufenthaltes geimpft werden. Dabei wurde ihre ohne vorherige Frage eine HPV-Impfung verpasst. Das hat ein Nachspiel!   \n",
       "316668                                                                                                                                                                                                                                                                                                                                                                                                                                                                                                                                                                                                                                                                                                                                                                                              Total überlastetes, und anscheinend unterbezahltes Arzthelferinnen-Personal !   \n",
       "...                                                                                                                                                                                                                                                                                                                                                                                                                                                                                                                                                                                                                                                                                                                                                                                                                                                                           ...   \n",
       "242309                                                                                                                                                                                                                                                                                                                                                                                                                                                                                                                                                                                                       Bitte bei der Medikamenten Verschreibung doch gleich ein Hinweis auf Einnahmezeiten schriftlich mitgeben ich war leider überfordert bei 3 MedikamentenEinnahmen jedenfalls Stunden später wusste ich nicht mehr genau wie und wann ich die Medikamente nehmen sollte   \n",
       "23872                                                                                                                                                                                                                                                                                                                                                                                                                                                                                                                                                                                                                                                                                                                                                                  Ärztin will eine schnell weghaben aufgrund der vollen Praxis. Alles kurz und knapp und das allermindeste .   \n",
       "53785                                                                                                                                                                                                                                                                                                                                                                                                                                                                                                                                                                   wie so viele Orthopäden wird auch Dr. nasseri dem schlechten ruf seiner Kollegen vollstens gerecht.<br />\\nIch kann diese Praxis absolut nicht empfehlen.<br />\\nNettigkeit ist kein Qualitätsmerkmal , sonder wie ernst werde ich genommen, hört man mir zu und welche therapieempfehlungen bekomme ich.   \n",
       "341541                                                                                                                                                                                                                                                                                                                                        Die Bewertung eines Arztes erfolgt nicht danach, wie breit er lächelt, sondern, wie er einem hilft!<br />\\nDr. Weihe verweigerte eine Behandlung mir Aclasta-Infusion, die meine Osteoporosewerte bei der Behandlung beim Kölner Arzt ü. 4 Jahre, deutlich verbessert hatte.<br />\\nAls normaler Sterblicher erhielt ich zuerst die billigste Variante, Tabletten, die meinen Magen in einer Woche kaputt gemacht hatten, später andere preisgünstige Alternative. Er sparte an mir. <br />\\nEin Wechsel des Arztes brachte Erfolg!   \n",
       "35891                                                                                                                                                                                                                                                                                                                                                                                                                                                                                                                                                                                           Leider spricht der Zahnarzt mehr über Geld als über die Behandlung selber. Als es bei der letzten Honorarvereinbarung um gut das Doppelte des normalen Honorars ging, habe ich die Behandlung beendet und mir einen Zahnarzt gesucht, der mit dem normalen Honorar zufrieden ist.   \n",
       "\n",
       "           label prediction  \n",
       "95574   positive   negative  \n",
       "220265  negative   positive  \n",
       "23538   negative   positive  \n",
       "264798  negative   positive  \n",
       "316668  negative   positive  \n",
       "...          ...        ...  \n",
       "242309  positive   negative  \n",
       "23872   negative   positive  \n",
       "53785   negative   positive  \n",
       "341541  negative   positive  \n",
       "35891   negative   positive  \n",
       "\n",
       "[8981 rows x 3 columns]"
      ]
     },
     "execution_count": 19,
     "metadata": {},
     "output_type": "execute_result"
    }
   ],
   "source": [
    "pd.set_option('display.max_colwidth', None)\n",
    "\n",
    "data_train[\"prediction\"] = y_train_pred\n",
    "\n",
    "data_train[data_train[\"label\"] != data_train[\"prediction\"]][[\"text_original\", \"label\", \"prediction\"]]"
   ]
  },
  {
   "cell_type": "code",
   "execution_count": null,
   "metadata": {},
   "outputs": [],
   "source": []
  },
  {
   "cell_type": "markdown",
   "metadata": {},
   "source": [
    "# Hyperparameter Tuning\n",
    "\n",
    "In case the above results are not good enough, the next step is to tune hyperparameters in order to improve the performance of the Base Classifier. Instead of doing this manually, we automate this laborious process by using a hyperparameter optimization framework. \n",
    "\n",
    "There are many tuners available:\n",
    "- [scikit-learn](https://scikit-learn.org/stable/modules/grid_search.html)\n",
    "- [scikit-optimize](https://scikit-optimize.github.io/stable/)\n",
    "- [Optuna](https://optuna.readthedocs.io/en/stable/)\n",
    "- [KerasTuner](https://keras.io/keras_tuner/)\n",
    "- [Ax](https://ax.dev)\n",
    "- ..."
   ]
  },
  {
   "cell_type": "markdown",
   "metadata": {},
   "source": [
    "During hyperparameter tuning we will need the preprocessed tokens during each iteration. Therefore it makes sense to externalize the preprocessing step (do it once and store the tokens so we can reuse them for each hyperparameter evaluation)."
   ]
  },
  {
   "cell_type": "code",
   "execution_count": 20,
   "metadata": {},
   "outputs": [
    {
     "name": "stdout",
     "output_type": "stream",
     "text": [
      "CPU times: user 2.69 s, sys: 600 ms, total: 3.29 s\n",
      "Wall time: 50.5 s\n"
     ]
    }
   ],
   "source": [
    "%%time\n",
    "\n",
    "from fhnw.nlp.utils.processing import parallelize_dataframe\n",
    "from fhnw.nlp.utils.preprocess import preprocess\n",
    "\n",
    "data = parallelize_dataframe(data, preprocess, field_read=\"text_original\", field_write=\"tokens\", stopwords=stopwords, do_compound_word_split=True)"
   ]
  },
  {
   "cell_type": "markdown",
   "metadata": {},
   "source": [
    "Let's give optuna a try (see [here](https://github.com/markif/2024_HS_CAS_NLP_LAB_Notebooks/blob/master/03_b_Base_Classifier_with_Hyperparameter_Tuning.ipynb) in case you are interested in scikit-optimize)"
   ]
  },
  {
   "cell_type": "code",
   "execution_count": 21,
   "metadata": {},
   "outputs": [],
   "source": [
    "%%capture\n",
    "\n",
    "#!pip install optuna\n",
    "!pip install --pre optuna"
   ]
  },
  {
   "cell_type": "code",
   "execution_count": 22,
   "metadata": {},
   "outputs": [
    {
     "name": "stdout",
     "output_type": "stream",
     "text": [
      "3.0.0rc0\n"
     ]
    }
   ],
   "source": [
    "import optuna\n",
    "\n",
    "print(optuna.__version__)"
   ]
  },
  {
   "cell_type": "code",
   "execution_count": 23,
   "metadata": {},
   "outputs": [],
   "source": [
    "from sklearn.model_selection import train_test_split\n",
    "\n",
    "data_train, data_test = train_test_split(data, shuffle=True, random_state=42, stratify=data[\"label\"])\n",
    "\n",
    "X_train, y_train = data_train[\"tokens\"], data_train[\"label\"]\n",
    "X_test, y_test = data_test[\"tokens\"], data_test[\"label\"]"
   ]
  },
  {
   "cell_type": "code",
   "execution_count": 24,
   "metadata": {},
   "outputs": [],
   "source": [
    "from sklearn.feature_extraction.text import TfidfVectorizer\n",
    "from sklearn.linear_model import SGDClassifier\n",
    "from sklearn.pipeline import Pipeline\n",
    "from fhnw.nlp.utils.processing import identity\n",
    "\n",
    "pipe = Pipeline([\n",
    "         (\"vec\", TfidfVectorizer(tokenizer=identity, preprocessor=identity, stop_words=None)),\n",
    "         (\"clf\", SGDClassifier())\n",
    "        ])"
   ]
  },
  {
   "cell_type": "markdown",
   "metadata": {},
   "source": [
    "<font color='red'>**TASK: Select a set of hyperparameter and perform an optimization.**</font>"
   ]
  },
  {
   "cell_type": "markdown",
   "metadata": {},
   "source": [
    "Useful Videos (you might want to watch them first):\n",
    "- [Hyperparameter Tuning Process](https://www.youtube.com/watch?v=AXDByU3D1hA)\n",
    "- [Appropriate Scale to Pick Hyperparameters](https://www.youtube.com/watch?v=cSoK_6Rkbfg)\n",
    "\n",
    "Possible Inspirations:\n",
    "- Parameters of [TfidfVectorizer](https://scikit-learn.org/stable/modules/generated/sklearn.feature_extraction.text.TfidfVectorizer.html) and [SGDClassifier](https://scikit-learn.org/stable/modules/generated/sklearn.linear_model.SGDClassifier.html)\n",
    "- [Hyperparameter Optimization with Optuna](https://www.datasciencebyexample.com/2022/07/02/2022-07-02-1/)\n",
    "\n",
    "Further Links:\n",
    "- [Hyperparameter Tuning](https://neptune.ai/blog/hyperparameter-tuning-in-python-a-complete-guide-2020)\n",
    "- [Reasons for Cross Validation](https://towardsdatascience.com/5-reasons-why-you-should-use-cross-validation-in-your-data-science-project-8163311a1e79)\n",
    "- [Model Evaluation](https://scikit-learn.org/stable/modules/model_evaluation.html) (also on how to evaluate [imbalanced classes/datasets](https://scikit-learn.org/stable/modules/model_evaluation.html#from-binary-to-multiclass-and-multilabel))\n",
    "- [Tour of Evaluation Metrics for Imbalanced Classification](https://machinelearningmastery.com/tour-of-evaluation-metrics-for-imbalanced-classification/)\n",
    "- [Bayesian Optimization](https://en.wikipedia.org/wiki/Bayesian_optimization)\n",
    "- [Conceptual Explanation of Bayesian Hyperparameter Optimization](https://towardsdatascience.com/a-conceptual-explanation-of-bayesian-model-based-hyperparameter-optimization-for-machine-learning-b8172278050f)\n",
    "- [Exploring Bayesian Optimization](https://distill.pub/2020/bayesian-optimization/)"
   ]
  },
  {
   "cell_type": "code",
   "execution_count": 25,
   "metadata": {},
   "outputs": [],
   "source": [
    "from sklearn.metrics import f1_score, make_scorer\n",
    "\n",
    "scoring_function = make_scorer(f1_score, average='weighted')\n",
    "#scoring_function = make_scorer(f1_score, average='macro')"
   ]
  },
  {
   "cell_type": "code",
   "execution_count": 26,
   "metadata": {},
   "outputs": [],
   "source": [
    "from sklearn.model_selection import cross_val_score\n",
    "from sklearn.model_selection import StratifiedKFold\n",
    "\n",
    "def objective(trial):\n",
    "\n",
    "    # TODO: !!! place your code here !!!\n",
    "    ####################################\n",
    "    params = {\n",
    "        \"clf__alpha\": trial.suggest_...,\n",
    "        ...\n",
    "    }\n",
    "    \n",
    "    ###################\n",
    "    # TODO: !!! end !!!\n",
    "    \n",
    "    # set the hyper parameters to try\n",
    "    pipe.set_params(**params)\n",
    "\n",
    "    return np.mean(cross_val_score(\n",
    "        pipe, \n",
    "        X_train, \n",
    "        y_train, \n",
    "        # Stratified K-Folds cross-validator (with 3 splits/folds)\n",
    "        cv=StratifiedKFold(n_splits=3, shuffle=True, random_state=42), \n",
    "        n_jobs=-1, \n",
    "        scoring=scoring_function))"
   ]
  },
  {
   "cell_type": "code",
   "execution_count": 27,
   "metadata": {
    "scrolled": true
   },
   "outputs": [
    {
     "name": "stderr",
     "output_type": "stream",
     "text": [
      "\u001b[32m[I 2022-08-19 14:57:42,509]\u001b[0m A new study created in memory with name: no-name-a5ddc6f7-3a22-43a4-a3ac-86487a55463c\u001b[0m\n"
     ]
    },
    {
     "name": "stdout",
     "output_type": "stream",
     "text": [
      "Sampler is TPESampler\n",
      "Pruner is HyperbandPruner\n"
     ]
    }
   ],
   "source": [
    "import warnings\n",
    "warnings.filterwarnings(\"ignore\", category=UserWarning)\n",
    "#optuna.logging.set_verbosity(optuna.logging.INFO)\n",
    "\n",
    "import optuna\n",
    "\n",
    "study = optuna.create_study(\n",
    "    direction=\"maximize\", \n",
    "    #sampler=optuna.samplers.MOTPESampler(),\n",
    "    #sampler=optuna.samplers.NSGAIISampler(),\n",
    "    pruner=optuna.pruners.HyperbandPruner(),\n",
    ")\n",
    "\n",
    "print(f\"Sampler is {study.sampler.__class__.__name__}\")\n",
    "print(f\"Pruner is {study.pruner.__class__.__name__}\")"
   ]
  },
  {
   "cell_type": "code",
   "execution_count": null,
   "metadata": {},
   "outputs": [],
   "source": [
    "%%time\n",
    "\n",
    "study.optimize(\n",
    "    objective, \n",
    "    n_trials=100, \n",
    ")"
   ]
  },
  {
   "cell_type": "code",
   "execution_count": 29,
   "metadata": {},
   "outputs": [
    {
     "name": "stdout",
     "output_type": "stream",
     "text": [
      "[0.9760530062996179]\n",
      "{'vec__max_df': 0.6191282183243669, 'vec__min_df': 0.00011357420295111831, 'vec__ngram_range': (1, 3), 'vec__use_idf': True, 'vec__sublinear_tf': False, 'clf__alpha': 8.560290577248475e-06}\n"
     ]
    }
   ],
   "source": [
    "print(study.best_trial.values)\n",
    "print(study.best_trial.params)"
   ]
  },
  {
   "cell_type": "code",
   "execution_count": 30,
   "metadata": {},
   "outputs": [],
   "source": [
    "from optuna.visualization import plot_contour\n",
    "from optuna.visualization import plot_edf\n",
    "from optuna.visualization import plot_optimization_history\n",
    "from optuna.visualization import plot_parallel_coordinate\n",
    "from optuna.visualization import plot_param_importances\n",
    "from optuna.visualization import plot_slice"
   ]
  },
  {
   "cell_type": "code",
   "execution_count": null,
   "metadata": {},
   "outputs": [],
   "source": [
    "plot_optimization_history(study)"
   ]
  },
  {
   "cell_type": "code",
   "execution_count": null,
   "metadata": {},
   "outputs": [],
   "source": [
    "plot_parallel_coordinate(study)"
   ]
  },
  {
   "cell_type": "code",
   "execution_count": null,
   "metadata": {},
   "outputs": [],
   "source": [
    "plot_contour(study)"
   ]
  },
  {
   "cell_type": "code",
   "execution_count": null,
   "metadata": {},
   "outputs": [],
   "source": [
    "plot_slice(study)"
   ]
  },
  {
   "cell_type": "code",
   "execution_count": null,
   "metadata": {},
   "outputs": [],
   "source": [
    "plot_param_importances(study)"
   ]
  },
  {
   "cell_type": "code",
   "execution_count": 36,
   "metadata": {},
   "outputs": [
    {
     "data": {
      "text/html": [
       "<style>#sk-container-id-2 {color: black;background-color: white;}#sk-container-id-2 pre{padding: 0;}#sk-container-id-2 div.sk-toggleable {background-color: white;}#sk-container-id-2 label.sk-toggleable__label {cursor: pointer;display: block;width: 100%;margin-bottom: 0;padding: 0.3em;box-sizing: border-box;text-align: center;}#sk-container-id-2 label.sk-toggleable__label-arrow:before {content: \"▸\";float: left;margin-right: 0.25em;color: #696969;}#sk-container-id-2 label.sk-toggleable__label-arrow:hover:before {color: black;}#sk-container-id-2 div.sk-estimator:hover label.sk-toggleable__label-arrow:before {color: black;}#sk-container-id-2 div.sk-toggleable__content {max-height: 0;max-width: 0;overflow: hidden;text-align: left;background-color: #f0f8ff;}#sk-container-id-2 div.sk-toggleable__content pre {margin: 0.2em;color: black;border-radius: 0.25em;background-color: #f0f8ff;}#sk-container-id-2 input.sk-toggleable__control:checked~div.sk-toggleable__content {max-height: 200px;max-width: 100%;overflow: auto;}#sk-container-id-2 input.sk-toggleable__control:checked~label.sk-toggleable__label-arrow:before {content: \"▾\";}#sk-container-id-2 div.sk-estimator input.sk-toggleable__control:checked~label.sk-toggleable__label {background-color: #d4ebff;}#sk-container-id-2 div.sk-label input.sk-toggleable__control:checked~label.sk-toggleable__label {background-color: #d4ebff;}#sk-container-id-2 input.sk-hidden--visually {border: 0;clip: rect(1px 1px 1px 1px);clip: rect(1px, 1px, 1px, 1px);height: 1px;margin: -1px;overflow: hidden;padding: 0;position: absolute;width: 1px;}#sk-container-id-2 div.sk-estimator {font-family: monospace;background-color: #f0f8ff;border: 1px dotted black;border-radius: 0.25em;box-sizing: border-box;margin-bottom: 0.5em;}#sk-container-id-2 div.sk-estimator:hover {background-color: #d4ebff;}#sk-container-id-2 div.sk-parallel-item::after {content: \"\";width: 100%;border-bottom: 1px solid gray;flex-grow: 1;}#sk-container-id-2 div.sk-label:hover label.sk-toggleable__label {background-color: #d4ebff;}#sk-container-id-2 div.sk-serial::before {content: \"\";position: absolute;border-left: 1px solid gray;box-sizing: border-box;top: 0;bottom: 0;left: 50%;z-index: 0;}#sk-container-id-2 div.sk-serial {display: flex;flex-direction: column;align-items: center;background-color: white;padding-right: 0.2em;padding-left: 0.2em;position: relative;}#sk-container-id-2 div.sk-item {position: relative;z-index: 1;}#sk-container-id-2 div.sk-parallel {display: flex;align-items: stretch;justify-content: center;background-color: white;position: relative;}#sk-container-id-2 div.sk-item::before, #sk-container-id-2 div.sk-parallel-item::before {content: \"\";position: absolute;border-left: 1px solid gray;box-sizing: border-box;top: 0;bottom: 0;left: 50%;z-index: -1;}#sk-container-id-2 div.sk-parallel-item {display: flex;flex-direction: column;z-index: 1;position: relative;background-color: white;}#sk-container-id-2 div.sk-parallel-item:first-child::after {align-self: flex-end;width: 50%;}#sk-container-id-2 div.sk-parallel-item:last-child::after {align-self: flex-start;width: 50%;}#sk-container-id-2 div.sk-parallel-item:only-child::after {width: 0;}#sk-container-id-2 div.sk-dashed-wrapped {border: 1px dashed gray;margin: 0 0.4em 0.5em 0.4em;box-sizing: border-box;padding-bottom: 0.4em;background-color: white;}#sk-container-id-2 div.sk-label label {font-family: monospace;font-weight: bold;display: inline-block;line-height: 1.2em;}#sk-container-id-2 div.sk-label-container {text-align: center;}#sk-container-id-2 div.sk-container {/* jupyter's `normalize.less` sets `[hidden] { display: none; }` but bootstrap.min.css set `[hidden] { display: none !important; }` so we also need the `!important` here to be able to override the default hidden behavior on the sphinx rendered scikit-learn.org. See: https://github.com/scikit-learn/scikit-learn/issues/21755 */display: inline-block !important;position: relative;}#sk-container-id-2 div.sk-text-repr-fallback {display: none;}</style><div id=\"sk-container-id-2\" class=\"sk-top-container\"><div class=\"sk-text-repr-fallback\"><pre>Pipeline(steps=[(&#x27;vec&#x27;,\n",
       "                 TfidfVectorizer(max_df=0.6191282183243669,\n",
       "                                 min_df=0.00011357420295111831,\n",
       "                                 ngram_range=(1, 3),\n",
       "                                 preprocessor=&lt;function identity at 0x7f4fbd1f8820&gt;,\n",
       "                                 tokenizer=&lt;function identity at 0x7f4fbd1f8820&gt;)),\n",
       "                (&#x27;clf&#x27;, SGDClassifier(alpha=8.560290577248475e-06))])</pre><b>In a Jupyter environment, please rerun this cell to show the HTML representation or trust the notebook. <br />On GitHub, the HTML representation is unable to render, please try loading this page with nbviewer.org.</b></div><div class=\"sk-container\" hidden><div class=\"sk-item sk-dashed-wrapped\"><div class=\"sk-label-container\"><div class=\"sk-label sk-toggleable\"><input class=\"sk-toggleable__control sk-hidden--visually\" id=\"sk-estimator-id-4\" type=\"checkbox\" ><label for=\"sk-estimator-id-4\" class=\"sk-toggleable__label sk-toggleable__label-arrow\">Pipeline</label><div class=\"sk-toggleable__content\"><pre>Pipeline(steps=[(&#x27;vec&#x27;,\n",
       "                 TfidfVectorizer(max_df=0.6191282183243669,\n",
       "                                 min_df=0.00011357420295111831,\n",
       "                                 ngram_range=(1, 3),\n",
       "                                 preprocessor=&lt;function identity at 0x7f4fbd1f8820&gt;,\n",
       "                                 tokenizer=&lt;function identity at 0x7f4fbd1f8820&gt;)),\n",
       "                (&#x27;clf&#x27;, SGDClassifier(alpha=8.560290577248475e-06))])</pre></div></div></div><div class=\"sk-serial\"><div class=\"sk-item\"><div class=\"sk-estimator sk-toggleable\"><input class=\"sk-toggleable__control sk-hidden--visually\" id=\"sk-estimator-id-5\" type=\"checkbox\" ><label for=\"sk-estimator-id-5\" class=\"sk-toggleable__label sk-toggleable__label-arrow\">TfidfVectorizer</label><div class=\"sk-toggleable__content\"><pre>TfidfVectorizer(max_df=0.6191282183243669, min_df=0.00011357420295111831,\n",
       "                ngram_range=(1, 3),\n",
       "                preprocessor=&lt;function identity at 0x7f4fbd1f8820&gt;,\n",
       "                tokenizer=&lt;function identity at 0x7f4fbd1f8820&gt;)</pre></div></div></div><div class=\"sk-item\"><div class=\"sk-estimator sk-toggleable\"><input class=\"sk-toggleable__control sk-hidden--visually\" id=\"sk-estimator-id-6\" type=\"checkbox\" ><label for=\"sk-estimator-id-6\" class=\"sk-toggleable__label sk-toggleable__label-arrow\">SGDClassifier</label><div class=\"sk-toggleable__content\"><pre>SGDClassifier(alpha=8.560290577248475e-06)</pre></div></div></div></div></div></div></div>"
      ],
      "text/plain": [
       "Pipeline(steps=[('vec',\n",
       "                 TfidfVectorizer(max_df=0.6191282183243669,\n",
       "                                 min_df=0.00011357420295111831,\n",
       "                                 ngram_range=(1, 3),\n",
       "                                 preprocessor=<function identity at 0x7f4fbd1f8820>,\n",
       "                                 tokenizer=<function identity at 0x7f4fbd1f8820>)),\n",
       "                ('clf', SGDClassifier(alpha=8.560290577248475e-06))])"
      ]
     },
     "execution_count": 36,
     "metadata": {},
     "output_type": "execute_result"
    }
   ],
   "source": [
    "pipe.set_params(**study.best_params)\n",
    "pipe.fit(X_train, y_train)"
   ]
  },
  {
   "cell_type": "code",
   "execution_count": 37,
   "metadata": {},
   "outputs": [],
   "source": [
    "y_train_pred = pipe.predict(X_train)\n",
    "y_test_pred = pipe.predict(X_test)"
   ]
  },
  {
   "cell_type": "code",
   "execution_count": 38,
   "metadata": {},
   "outputs": [
    {
     "name": "stdout",
     "output_type": "stream",
     "text": [
      "Train:\n",
      "              precision    recall  f1-score   support\n",
      "\n",
      "    negative       0.94      0.90      0.92     24771\n",
      "    positive       0.99      0.99      0.99    223732\n",
      "\n",
      "    accuracy                           0.98    248503\n",
      "   macro avg       0.96      0.95      0.95    248503\n",
      "weighted avg       0.98      0.98      0.98    248503\n",
      "\n",
      "Test:\n",
      "              precision    recall  f1-score   support\n",
      "\n",
      "    negative       0.91      0.85      0.88      8257\n",
      "    positive       0.98      0.99      0.99     74578\n",
      "\n",
      "    accuracy                           0.98     82835\n",
      "   macro avg       0.95      0.92      0.93     82835\n",
      "weighted avg       0.98      0.98      0.98     82835\n",
      "\n"
     ]
    }
   ],
   "source": [
    "from sklearn.metrics import classification_report\n",
    "\n",
    "report = classification_report(y_train, y_train_pred)\n",
    "print(\"Train:\")\n",
    "print(report)\n",
    "report = classification_report(y_test, y_test_pred)\n",
    "print(\"Test:\")\n",
    "print(report)"
   ]
  },
  {
   "cell_type": "code",
   "execution_count": null,
   "metadata": {},
   "outputs": [],
   "source": [
    "from fhnw.nlp.utils.ploting import plot_confusion_matrix\n",
    "\n",
    "plot_confusion_matrix(y_train, y_train_pred)\n",
    "plot_confusion_matrix(y_test, y_test_pred)"
   ]
  },
  {
   "cell_type": "code",
   "execution_count": null,
   "metadata": {},
   "outputs": [],
   "source": []
  },
  {
   "cell_type": "code",
   "execution_count": null,
   "metadata": {},
   "outputs": [],
   "source": []
  }
 ],
 "metadata": {
  "kernelspec": {
   "display_name": "Python 3 (ipykernel)",
   "language": "python",
   "name": "python3"
  },
  "language_info": {
   "codemirror_mode": {
    "name": "ipython",
    "version": 3
   },
   "file_extension": ".py",
   "mimetype": "text/x-python",
   "name": "python",
   "nbconvert_exporter": "python",
   "pygments_lexer": "ipython3",
   "version": "3.8.10"
  }
 },
 "nbformat": 4,
 "nbformat_minor": 2
}
